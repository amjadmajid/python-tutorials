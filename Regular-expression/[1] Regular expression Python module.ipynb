{
 "cells": [
  {
   "cell_type": "markdown",
   "metadata": {},
   "source": [
    "# Regular expression in Python\n",
    "\n",
    "* __re__ is the Python module to handle regular expressions\n",
    "* In this tutorial we adapt the following convention: \n",
    "    * `pattern` refers to a regular expression pattern \n",
    "    * `string` refers to group of characters \n",
    "    * `flags` refers to control flags that `re` module uses to customize its processing"
   ]
  },
  {
   "cell_type": "markdown",
   "metadata": {},
   "source": [
    "### search\n",
    "* `re.search(pattern, string, flag)`\n",
    "    * The `search` method looks for the first match of the `pattern` in the `string` and return a `group object`.\n",
    "    * The `group` object has a `span` field that contains the beginning and the end indices of the found substring. And its `match` field contains the found substring "
   ]
  },
  {
   "cell_type": "code",
   "execution_count": 2,
   "metadata": {},
   "outputs": [
    {
     "name": "stdout",
     "output_type": "stream",
     "text": [
      "<_sre.SRE_Match object; span=(11, 14), match='Ali'>\n"
     ]
    }
   ],
   "source": [
    "import re # import re module to handle regular expressions \n",
    "\n",
    "pattern = \"Ali\"\n",
    "string = \"My name is Ali\"\n",
    "print( re.search(pattern, string))"
   ]
  },
  {
   "cell_type": "markdown",
   "metadata": {},
   "source": [
    "### match\n",
    "\n",
    "* `re.match(pattern, string, flag)`\n",
    "    * The `match` method is similar to the `search` method except that it matches the `pattern` __only__ to the beginning of the `string`. \n",
    "   "
   ]
  },
  {
   "cell_type": "code",
   "execution_count": 86,
   "metadata": {},
   "outputs": [
    {
     "name": "stdout",
     "output_type": "stream",
     "text": [
      "None\n",
      "<_sre.SRE_Match object; span=(0, 3), match='Ali'>\n"
     ]
    }
   ],
   "source": [
    "pattern = \"Ali\"\n",
    "string = \"My name is Ali\"\n",
    "print( re.match(pattern, string))\n",
    "\n",
    "string = \"Ali is my name\"\n",
    "print( re.match(pattern, string))"
   ]
  },
  {
   "cell_type": "markdown",
   "metadata": {},
   "source": [
    "### The group object\n",
    "* `search` and `match` methods return an `group` object that contains the found substring or `None`. Therefore, we can test the returned value before processing it.\n",
    "\n"
   ]
  },
  {
   "cell_type": "code",
   "execution_count": 87,
   "metadata": {},
   "outputs": [
    {
     "name": "stdout",
     "output_type": "stream",
     "text": [
      "False\n",
      "True\n"
     ]
    }
   ],
   "source": [
    "pattern = \"Ali\"\n",
    "string = \"My name is Noor\"\n",
    "groupObj = re.search(pattern, string)\n",
    "print(bool(groupObj))\n",
    "\n",
    "pattern = \"Noor\"\n",
    "groupObj = re.search(pattern, string)\n",
    "print(bool(groupObj))"
   ]
  },
  {
   "cell_type": "markdown",
   "metadata": {},
   "source": [
    "* To access the found substring in the return `group` object invoke the `group()` method on the returned object. "
   ]
  },
  {
   "cell_type": "code",
   "execution_count": 88,
   "metadata": {},
   "outputs": [
    {
     "name": "stdout",
     "output_type": "stream",
     "text": [
      "Noor\n"
     ]
    }
   ],
   "source": [
    "pattern = \"Noor\"\n",
    "string = \"My name is Noor\"\n",
    "\n",
    "groupObj = re.search(pattern, string)\n",
    "if groupObj:\n",
    "    print(groupObj.group())"
   ]
  },
  {
   "cell_type": "markdown",
   "metadata": {},
   "source": [
    "### start/end\n",
    "* To access the starting (ending) index of the substring in the `group` object invoke `start()` (`end()`) method. "
   ]
  },
  {
   "cell_type": "code",
   "execution_count": 89,
   "metadata": {},
   "outputs": [
    {
     "name": "stdout",
     "output_type": "stream",
     "text": [
      "11\n"
     ]
    }
   ],
   "source": [
    "pattern = \"Noor\"\n",
    "string = \"My name is Noor\"\n",
    "\n",
    "groupObj = re.search(pattern, string)\n",
    "if groupObj:\n",
    "    print(groupObj.start())"
   ]
  },
  {
   "cell_type": "markdown",
   "metadata": {},
   "source": [
    "### findall\n",
    "* `re.findall(patter, string, flag)`\n",
    "    * `findall` returns a list of strings that match the `pattern` in the `string`"
   ]
  },
  {
   "cell_type": "code",
   "execution_count": 85,
   "metadata": {},
   "outputs": [
    {
     "name": "stdout",
     "output_type": "stream",
     "text": [
      "['Mohammed', 'Mohammed', 'Ali']\n"
     ]
    }
   ],
   "source": [
    "pattern = 'Mohammed|Ali' # regular expression to look for the word Mohammed or Ali\n",
    "string = \"Mohammed is my name. Mohammed Ali is my full name\"\n",
    "print( re.findall(pattern, string))"
   ]
  },
  {
   "cell_type": "markdown",
   "metadata": {},
   "source": [
    "### Literal Matching \n",
    "* `search`, `match`, and `findall` search on a substring level\n",
    "* The search is letter case sensetive, unless the flag `re.I` is set."
   ]
  },
  {
   "cell_type": "code",
   "execution_count": 5,
   "metadata": {},
   "outputs": [
    {
     "name": "stdout",
     "output_type": "stream",
     "text": [
      "a\n",
      "`a` is NOT in `Ali`\n",
      "`re.I`  ignores letter case. So `a` is in `Ali`\n"
     ]
    }
   ],
   "source": [
    "print(re.search('a', 'ali').group())\n",
    "\n",
    "groupObj =  re.search('a', 'Ali');\n",
    "if groupObj:\n",
    "    print('`a` is in `Ali`')\n",
    "else:\n",
    "    print('`a` is NOT in `Ali`')\n",
    "        \n",
    "groupObj =  re.search('a', 'Ali', re.I)\n",
    "if groupObj:\n",
    "    print('`re.I`  ignores letter case. So `a` is in `Ali`')"
   ]
  },
  {
   "cell_type": "code",
   "execution_count": 11,
   "metadata": {},
   "outputs": [
    {
     "data": {
      "text/plain": [
       "'XY XY XY'"
      ]
     },
     "execution_count": 11,
     "metadata": {},
     "output_type": "execute_result"
    }
   ],
   "source": [
    "p = re.compile(\"x*\")\n",
    "p.sub('XY', 'xxx xx x')"
   ]
  },
  {
   "cell_type": "markdown",
   "metadata": {},
   "source": [
    "\n"
   ]
  }
 ],
 "metadata": {
  "kernelspec": {
   "display_name": "Python 3",
   "language": "python",
   "name": "python3"
  },
  "language_info": {
   "codemirror_mode": {
    "name": "ipython",
    "version": 3
   },
   "file_extension": ".py",
   "mimetype": "text/x-python",
   "name": "python",
   "nbconvert_exporter": "python",
   "pygments_lexer": "ipython3",
   "version": "3.6.5"
  }
 },
 "nbformat": 4,
 "nbformat_minor": 2
}
