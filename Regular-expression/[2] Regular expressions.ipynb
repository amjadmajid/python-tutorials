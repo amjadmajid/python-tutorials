{
 "cells": [
  {
   "cell_type": "markdown",
   "metadata": {},
   "source": [
    " "
   ]
  },
  {
   "cell_type": "markdown",
   "metadata": {},
   "source": [
    "# Regular expression\n",
    "* A regular expression (regex) is a pattern describing a certain amount of text. \n",
    "* A literal  text like _owl_ is a simply regular expressoin pattern. "
   ]
  },
  {
   "cell_type": "code",
   "execution_count": 24,
   "metadata": {},
   "outputs": [
    {
     "name": "stdout",
     "output_type": "stream",
     "text": [
      "['Mohammed']\n"
     ]
    }
   ],
   "source": [
    "import re\n",
    "# the pattern here is `Mohammed`\n",
    "print( re.findall(\"Mohammed\", \"My name is Mohammed\"))"
   ]
  },
  {
   "cell_type": "markdown",
   "metadata": {},
   "source": [
    "### Character Sets (or Classes)\n",
    " * The character class `[ ]` allows you to choose _a single character_ out of the included set of characters. \n",
    "  * A way to understand `[ ]` is to see it as a dash `_____` that _must_ be filled with _a single character_ from the characters inside the`[ ]`. "
   ]
  },
  {
   "cell_type": "code",
   "execution_count": 33,
   "metadata": {},
   "outputs": [
    {
     "name": "stdout",
     "output_type": "stream",
     "text": [
      "['grey', 'gray']\n"
     ]
    }
   ],
   "source": [
    "# the pattern here is `Mohammed`\n",
    "print( re.findall(\"gr[ea]y\", \"In American English, it is grey, but in British English it is gray.\"))"
   ]
  },
  {
   "cell_type": "markdown",
   "metadata": {},
   "source": [
    " * The character class `[ ]` allow you to choose ONLY one character."
   ]
  },
  {
   "cell_type": "code",
   "execution_count": 36,
   "metadata": {},
   "outputs": [
    {
     "name": "stdout",
     "output_type": "stream",
     "text": [
      "[]\n",
      "[]\n"
     ]
    }
   ],
   "source": [
    "print(re.findall(\"gr[aa]y\", \"graay\"))\n",
    "print(re.findall(\"gr[aae]y\", \"graey\"))"
   ]
  },
  {
   "cell_type": "markdown",
   "metadata": {},
   "source": [
    "__range__\n",
    "* A hyphen inside a character class allows you to specify a range. \n",
    "    * `[0-9]` matches a _single_ digit from 0 to 9\n",
    "    * `[a-f]`  is similar to `[abcdef]`"
   ]
  },
  {
   "cell_type": "code",
   "execution_count": 51,
   "metadata": {},
   "outputs": [
    {
     "name": "stdout",
     "output_type": "stream",
     "text": [
      "['0x1']\n",
      "['0x1f']\n"
     ]
    }
   ],
   "source": [
    "print(re.findall(\"0x[0-9a-f]\", \"0x1f\"))\n",
    "print(re.findall(\"0x[0-9][a-f]\", \"0x1f\"))"
   ]
  },
  {
   "cell_type": "markdown",
   "metadata": {},
   "source": [
    "__negation__\n",
    "* The _caret_ symbol at the beginning of the character set means all characters are match except the following characters. \n",
    "* `[^a]` means all characters match except `a`"
   ]
  },
  {
   "cell_type": "code",
   "execution_count": 53,
   "metadata": {},
   "outputs": [
    {
     "name": "stdout",
     "output_type": "stream",
     "text": [
      "['grey']\n"
     ]
    }
   ],
   "source": [
    "print(re.findall(\"gr[^a]y\", \"grey\"))"
   ]
  },
  {
   "cell_type": "markdown",
   "metadata": {},
   "source": [
    "### Shorthand Character Classes\n",
    "* `\\d` matches a single digit `[0-9]`\n",
    "* `\\w` matches a single string (letter, number, underscore) `[a-zA-Z0-9_]`\n",
    "* `\\s` matches a single whitespace\n",
    "* `.` matches all characters except line break "
   ]
  },
  {
   "cell_type": "code",
   "execution_count": 79,
   "metadata": {},
   "outputs": [
    {
     "name": "stdout",
     "output_type": "stream",
     "text": [
      "['class_1']\n",
      "['class 1']\n",
      "['class 10']\n",
      "['1%0=NaN']\n"
     ]
    }
   ],
   "source": [
    "print(re.findall(\"class_\\d\", \"class_1\"))\n",
    "print(re.findall(\"class\\s\\d\", \"class 10\"))\n",
    "print(re.findall(\"\\w\\w\\w\\w\\w\\s\\d\\d\", \"class 10\"))\n",
    "print(re.findall(\".......\", \"1%0=NaN\"))"
   ]
  },
  {
   "cell_type": "markdown",
   "metadata": {},
   "source": [
    "### Anchors\n",
    "Anchors match positions and not characters. \n",
    "* `^` matches at the beginning of a string\n",
    "* `$` matches at the end of a string\n",
    "* `\\b` matches a word boundary  __TODO__"
   ]
  },
  {
   "cell_type": "code",
   "execution_count": 121,
   "metadata": {},
   "outputs": [
    {
     "name": "stdout",
     "output_type": "stream",
     "text": [
      "[]\n",
      "['Ali']\n",
      "['Ali']\n"
     ]
    }
   ],
   "source": [
    "print(re.findall(\"^Ali\", \"My name is Ali\"))\n",
    "print(re.findall(\"Ali$\", \"My name is Ali\"))\n",
    "print(re.findall(\"^Ali\", \"Ali is my name\"))\n"
   ]
  },
  {
   "cell_type": "markdown",
   "metadata": {},
   "source": [
    "### Alternation\n",
    "* Alternation `|` is similar to `or`. It allows choosing between many patters"
   ]
  },
  {
   "cell_type": "code",
   "execution_count": 102,
   "metadata": {},
   "outputs": [
    {
     "name": "stdout",
     "output_type": "stream",
     "text": [
      "Mohammed\n"
     ]
    }
   ],
   "source": [
    "pattern = 'Mohammed|Ali|boxer'\n",
    "string = \"Mohammed is my name. Mohammed Ali is my full name, and I'm a boxer\"\n",
    "print( re.search(pattern, string).group() )"
   ]
  },
  {
   "cell_type": "markdown",
   "metadata": {},
   "source": [
    "### group\n",
    "* To capture _grey is nice color_ or _gray is a nice color_ you need to _group_ the alternations using `(  )`. For example, `(pattern1| pattern1|pattern2|...)`."
   ]
  },
  {
   "cell_type": "code",
   "execution_count": 103,
   "metadata": {},
   "outputs": [
    {
     "name": "stdout",
     "output_type": "stream",
     "text": [
      "Gray is a nice color\n"
     ]
    }
   ],
   "source": [
    "pattern = '(grey|gray) is a nice color'\n",
    "string = 'Gray is a nice color'\n",
    "print(re.search(pattern, string, re.I).group()) # re.I ignores letter case"
   ]
  },
  {
   "cell_type": "markdown",
   "metadata": {},
   "source": [
    "### Repetition\n",
    "* `+` matches the precesing token 1 or more times\n",
    "* `?` makes the preceding token in the regular expression optional (0 or 1)\n",
    "* `*` matches the precesing token  0 or more times\n",
    "* `{n,m}`  = `n` (`m`) is the minimum (maximum) number of repetitions. "
   ]
  },
  {
   "cell_type": "code",
   "execution_count": 163,
   "metadata": {},
   "outputs": [
    {
     "name": "stdout",
     "output_type": "stream",
     "text": [
      "['class 1']\n",
      "['color', 'colour']\n",
      "['2 times', '33 times', '9999 times']\n",
      "['class 10', 'lass_10', 'lass_123']\n",
      "data\n",
      "dataset\n"
     ]
    }
   ],
   "source": [
    "print(re.findall(\"\\w+\\s\\d\", \"class 10\"))\n",
    "print(re.findall(\"colou?r\", \"color or colour\"))\n",
    "print(re.findall(\"\\d*\\stimes\", \"2 times 33 times 9999 times\"))\n",
    "print(re.findall(\"\\w{5}\\s?\\d+\", \"class 10 class_10 class_123\"))"
   ]
  },
  {
   "cell_type": "markdown",
   "metadata": {},
   "source": [
    "* we can apply the quantifiers to a group"
   ]
  },
  {
   "cell_type": "code",
   "execution_count": 164,
   "metadata": {},
   "outputs": [
    {
     "name": "stdout",
     "output_type": "stream",
     "text": [
      "data\n",
      "dataset\n"
     ]
    }
   ],
   "source": [
    "print(re.search(\"data(set)?\", \"data\" ).group())\n",
    "print(re.search(\"data(set)?\", \"dataset\" ).group())"
   ]
  },
  {
   "cell_type": "markdown",
   "metadata": {},
   "source": [
    "### Greedy and Lazy Repetition\n",
    "* The repetition quantifiers expand the match as far as they can (greedy). In the following example the pattern matches `<em>` and `</em>` and `<em>website</em>`. The default behavior is to capture the longest substring"
   ]
  },
  {
   "cell_type": "code",
   "execution_count": 143,
   "metadata": {},
   "outputs": [
    {
     "name": "stdout",
     "output_type": "stream",
     "text": [
      "<em>website</em>\n"
     ]
    }
   ],
   "source": [
    "print(re.search(\"<.+>\", \"This is my first <em>website</em>\").group())"
   ]
  },
  {
   "cell_type": "markdown",
   "metadata": {},
   "source": [
    "* To make it lazy (stops at the first match) add `?` after the repetition operator, in this case after the `+`."
   ]
  },
  {
   "cell_type": "code",
   "execution_count": 144,
   "metadata": {},
   "outputs": [
    {
     "name": "stdout",
     "output_type": "stream",
     "text": [
      "<em>\n"
     ]
    }
   ],
   "source": [
    "print(re.search(\"<.+?>\", \"This is my first <em>website</em>\").group())"
   ]
  }
 ],
 "metadata": {
  "kernelspec": {
   "display_name": "Python 3",
   "language": "python",
   "name": "python3"
  },
  "language_info": {
   "codemirror_mode": {
    "name": "ipython",
    "version": 3
   },
   "file_extension": ".py",
   "mimetype": "text/x-python",
   "name": "python",
   "nbconvert_exporter": "python",
   "pygments_lexer": "ipython3",
   "version": "3.6.5"
  }
 },
 "nbformat": 4,
 "nbformat_minor": 2
}
