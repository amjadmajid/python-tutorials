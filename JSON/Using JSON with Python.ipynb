{
 "cells": [
  {
   "cell_type": "markdown",
   "metadata": {},
   "source": [
    "# Using JSON with Python\n",
    "\n",
    "**JSON** facilitates data sharing (storing) by standardizing the data format.\n",
    "\n",
    "**1. Converting between JSON stings and Python data types **\n",
    " \n",
    " **1.1** Converting from _Python data types_ to _JSON strings_ using `json.dumps()`\n",
    "    \n",
    "> `JSON sting <-json.dumps(Python data type)`"
   ]
  },
  {
   "cell_type": "code",
   "execution_count": 31,
   "metadata": {},
   "outputs": [
    {
     "name": "stdout",
     "output_type": "stream",
     "text": [
      "Type: <class 'dict'> \n",
      "Content: {'Name': 'Ali', 'Age': 3, 'Member': False, 'Salary': None, 'Hobbies': ['Football', 'swimming']}\n",
      "\n",
      "Type: <class 'str'> \n",
      "Content: {\"Name\": \"Ali\", \"Age\": 3, \"Member\": false, \"Salary\": null, \"Hobbies\": [\"Football\", \"swimming\"]}\n",
      "\n"
     ]
    }
   ],
   "source": [
    "import json\n",
    "\n",
    "def printStr(str1,str2):\n",
    "    \"\"\"Helper function\"\"\"\n",
    "    print(\"Type: {} \\nContent: {}\\n\".format(str1,str2))\n",
    "\n",
    "person = {\"Name\":\"Ali\", \"Age\":3, \"Member\":False, \"Salary\":None, \\\n",
    "          \"Hobbies\":[\"Football\", \"swimming\"]}\n",
    "\n",
    "printStr(type(person), person)\n",
    "\n",
    "person_data = json.dumps(person)  # Python -> JSON\n",
    "\n",
    "printStr(type(person_data), person_data)"
   ]
  },
  {
   "cell_type": "markdown",
   "metadata": {},
   "source": [
    "> Notice the change of `False` to `false` and `None` to `null`\n",
    "\n",
    "> Python data types (int, float, long, str, list, tuple, dict,and bool) can be in a similar way converted to JSON stings"
   ]
  },
  {
   "cell_type": "markdown",
   "metadata": {},
   "source": [
    "\n",
    "**1.2** Converting from _JSON strings_ to _Python data types_ using: `json.loads()`\n",
    " \n",
    " > `Python data type <-json.dumps(JSON sting)`"
   ]
  },
  {
   "cell_type": "code",
   "execution_count": 41,
   "metadata": {},
   "outputs": [
    {
     "name": "stdout",
     "output_type": "stream",
     "text": [
      "Type: <class 'str'> \n",
      "Content: [1, 2, 3, 4]\n",
      "\n",
      "Type: <class 'list'> \n",
      "Content: [1, 2, 3, 4]\n",
      "\n",
      "Type: <class 'int'> \n",
      "Content: 1\n",
      "\n"
     ]
    }
   ],
   "source": [
    "integers = (1,2,3,4)  # Python tuple\n",
    "\n",
    "numbers = json.dumps(integers) # Python tuple -> JSON string \n",
    "\n",
    "printStr(type(numbers), numbers) \n",
    "\n",
    "integers_2 =  json.loads(numbers) # JSON string -> to what Python predicts (tuple of list)\n",
    "\n",
    "printStr(type(integers_2), integers_2)\n",
    "printStr(type(integers_2[0]), integers_2[0])"
   ]
  },
  {
   "cell_type": "markdown",
   "metadata": {},
   "source": [
    "**1. Converting between JSON file objects and Python data types **\n",
    "\n",
    " **1.1** dump _Python data types_ into _JSON file objects_ using `json.dump()`"
   ]
  },
  {
   "cell_type": "code",
   "execution_count": 43,
   "metadata": {},
   "outputs": [],
   "source": [
    "with open(\"people.json\", \"w\") as json_file:\n",
    "    json.dump(person_data, json_file)  # output to a json file"
   ]
  },
  {
   "cell_type": "markdown",
   "metadata": {},
   "source": [
    "**1.2** load _JSON file objects_ to _Python data types_ using `json.load()`"
   ]
  },
  {
   "cell_type": "code",
   "execution_count": 46,
   "metadata": {},
   "outputs": [
    {
     "name": "stdout",
     "output_type": "stream",
     "text": [
      "{\"Name\": \"Ali\", \"Age\": 3, \"Member\": false, \"Salary\": null, \"Hobbies\": [\"Football\", \"swimming\"]}\n"
     ]
    }
   ],
   "source": [
    "with open(\"people.json\") as json_file:\n",
    "    newPerson = json.load(json_file)\n",
    "print(newPerson)"
   ]
  },
  {
   "cell_type": "markdown",
   "metadata": {},
   "source": [
    "___\n",
    "\n",
    "## Make JSON text readable\n",
    "\n",
    "**1.** Add indentation"
   ]
  },
  {
   "cell_type": "code",
   "execution_count": 50,
   "metadata": {},
   "outputs": [
    {
     "name": "stdout",
     "output_type": "stream",
     "text": [
      "{\n",
      "    \"Name\": \"Ali\",\n",
      "    \"Age\": 3,\n",
      "    \"Member\": false,\n",
      "    \"Salary\": null,\n",
      "    \"Hobbies\": [\n",
      "        \"Football\",\n",
      "        \"swimming\"\n",
      "    ]\n",
      "}\n"
     ]
    }
   ],
   "source": [
    "jsonStr = json.dumps(person, indent=4)\n",
    "print(jsonStr)"
   ]
  },
  {
   "cell_type": "markdown",
   "metadata": {},
   "source": [
    "**2.** Sort"
   ]
  },
  {
   "cell_type": "code",
   "execution_count": 52,
   "metadata": {},
   "outputs": [
    {
     "name": "stdout",
     "output_type": "stream",
     "text": [
      "{\n",
      "    \"Age\": 3,\n",
      "    \"Hobbies\": [\n",
      "        \"Football\",\n",
      "        \"swimming\"\n",
      "    ],\n",
      "    \"Member\": false,\n",
      "    \"Name\": \"Ali\",\n",
      "    \"Salary\": null\n",
      "}\n"
     ]
    }
   ],
   "source": [
    "jsonStr = json.dumps(person, indent=4, sort_keys=True)\n",
    "print(jsonStr)"
   ]
  },
  {
   "cell_type": "code",
   "execution_count": null,
   "metadata": {},
   "outputs": [],
   "source": []
  }
 ],
 "metadata": {
  "kernelspec": {
   "display_name": "Python 3",
   "language": "python",
   "name": "python3"
  },
  "language_info": {
   "codemirror_mode": {
    "name": "ipython",
    "version": 3
   },
   "file_extension": ".py",
   "mimetype": "text/x-python",
   "name": "python",
   "nbconvert_exporter": "python",
   "pygments_lexer": "ipython3",
   "version": "3.6.5"
  }
 },
 "nbformat": 4,
 "nbformat_minor": 2
}
